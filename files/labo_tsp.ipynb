{
 "cells": [
  {
   "cell_type": "code",
   "execution_count": 1,
   "metadata": {},
   "outputs": [],
   "source": [
    "from pyevolve import G1DList\n",
    "from pyevolve import GSimpleGA\n",
    "from pyevolve import Selectors\n",
    "from pyevolve import Mutators\n",
    "from pyevolve import Statistics\n",
    "from pyevolve import Crossovers\n",
    "from pyevolve import Consts\n",
    "from geopy.distance import geodesic\n",
    "from matplotlib.pyplot import plot\n",
    "import random"
   ]
  },
  {
   "cell_type": "code",
   "execution_count": 2,
   "metadata": {},
   "outputs": [],
   "source": [
    "LAT = [16.47, 16.47, 20.09, 22.39, 25.23, 22.00, 20.47, \n",
    "       17.20, 16.30, 14.05, 16.53, 21.52, 19.41, 20.09]\n",
    "\n",
    "LON = [96.10, 94.44, 92.54, 93.37, 97.24, 96.05, 97.02, \n",
    "       96.29, 97.38, 98.12, 97.38, 95.59, 97.13, 94.55]"
   ]
  },
  {
   "cell_type": "code",
   "execution_count": 3,
   "metadata": {},
   "outputs": [],
   "source": [
    "cities = list(zip(LAT, LON))"
   ]
  },
  {
   "cell_type": "code",
   "execution_count": 4,
   "metadata": {},
   "outputs": [],
   "source": [
    "def distanceTwoCities(city1, city2):\n",
    "    return geodesic(city1, city2).km"
   ]
  },
  {
   "cell_type": "code",
   "execution_count": 5,
   "metadata": {},
   "outputs": [],
   "source": [
    "def distTotPath(listCities):\n",
    "    distance = 0.0\n",
    "    for i in range(0,len(listCities) - 1):\n",
    "        distance += distanceTwoCities(listCities[i],listCities[i + 1])\n",
    "        \n",
    "    distance += distanceTwoCities(listCities[0],listCities[len(listCities) - 1])\n",
    "    \n",
    "    return distance"
   ]
  },
  {
   "cell_type": "code",
   "execution_count": 6,
   "metadata": {},
   "outputs": [],
   "source": [
    "def fitness(chromosome):\n",
    "    return distTotPath(chromosome)"
   ]
  },
  {
   "cell_type": "code",
   "execution_count": 7,
   "metadata": {},
   "outputs": [],
   "source": [
    "#http://pyevolve.sourceforge.net/0_6rc1/examples.html \n",
    "def G1DListCustomInitializator(genome, **args):\n",
    "    lst = [i for i in range(genome.getListSize())]\n",
    "    random.shuffle(lst)\n",
    "    genome.setInternalList(lst)"
   ]
  },
  {
   "cell_type": "code",
   "execution_count": 29,
   "metadata": {},
   "outputs": [
    {
     "name": "stdout",
     "output_type": "stream",
     "text": [
      "Gen. 0 (0.00%): Max/Min/Avg Fitness(Raw)             [9130.45(9731.94)/5801.49(5087.16)/7608.71(7608.71)]\n",
      "Gen. 20 (10.00%): Max/Min/Avg Fitness(Raw)             [8845.12(9510.89)/4731.16(3538.99)/7370.93(7370.93)]\n",
      "Gen. 40 (20.00%): Max/Min/Avg Fitness(Raw)             [8928.08(10174.39)/5317.11(3538.99)/7440.07(7440.07)]\n",
      "Gen. 60 (30.00%): Max/Min/Avg Fitness(Raw)             [9014.32(10174.41)/5270.08(3538.99)/7511.93(7511.93)]\n",
      "Gen. 80 (40.00%): Max/Min/Avg Fitness(Raw)             [8835.16(9732.06)/4848.85(3317.72)/7362.63(7362.63)]\n",
      "Gen. 100 (50.00%): Max/Min/Avg Fitness(Raw)             [8961.25(9510.88)/4434.10(3317.72)/7467.71(7467.71)]\n",
      "Gen. 120 (60.00%): Max/Min/Avg Fitness(Raw)             [8709.10(9732.04)/4946.46(3317.72)/7257.58(7257.58)]\n",
      "Gen. 140 (70.00%): Max/Min/Avg Fitness(Raw)             [8928.08(9732.03)/4763.72(3317.72)/7440.06(7440.06)]\n",
      "Gen. 160 (80.00%): Max/Min/Avg Fitness(Raw)             [8845.12(9510.91)/4578.76(3317.72)/7370.93(7370.93)]\n",
      "Gen. 180 (90.00%): Max/Min/Avg Fitness(Raw)             [8971.18(9953.22)/4966.17(3317.72)/7475.99(7475.99)]\n",
      "Gen. 200 (100.00%): Max/Min/Avg Fitness(Raw)             [8775.45(9732.03)/4897.48(3317.72)/7312.88(7312.88)]\n",
      "Total time elapsed: 27.361 seconds.\n",
      "- GenomeBase\n",
      "\tScore:\t\t\t 3317.724576\n",
      "\tFitness:\t\t 4897.478547\n",
      "\n",
      "\tParams:\t\t {'rangemin': 0, 'rangemax': 13}\n",
      "\n",
      "\tSlot [Evaluator] (Count: 1)\n",
      "\t\tName: fitness - Weight: 0.50\n",
      "\tSlot [Initializator] (Count: 1)\n",
      "\t\tName: G1DListCustomInitializator - Weight: 0.50\n",
      "\tSlot [Mutator] (Count: 1)\n",
      "\t\tName: G1DBinaryStringMutatorSwap - Weight: 0.50\n",
      "\t\tDoc:  The 1D Binary String Swap Mutator \n",
      "\tSlot [Crossover] (Count: 1)\n",
      "\t\tName: G1DListCrossoverEdge - Weight: 0.50\n",
      "\t\tDoc:  The Edge Recombination crossover for G1DList (widely used for TSP problem)\n",
      "\n",
      "    See more information in the `Edge Recombination Operator\n",
      "    <http://en.wikipedia.org/wiki/Edge_recombination_operator>`_\n",
      "    Wikipedia entry.\n",
      "    \n",
      "\n",
      "- G1DList\n",
      "\tList size:\t 14\n",
      "\tList:\t\t [13, 11, 7, 6, 5, 2, 0, 3, 1, 4, 8, 9, 10, 12]\n",
      "\n",
      "\n"
     ]
    }
   ],
   "source": [
    "#CHANGE\n",
    "genome = G1DList.G1DList(len(cities))\n",
    "genome.setParams(rangemin=0, rangemax=len(cities)-1)\n",
    "\n",
    "genome.evaluator.set(fitness)\n",
    "genome.mutator.set(Mutators.G1DBinaryStringMutatorSwap)\n",
    "genome.crossover.set(Crossovers.G1DListCrossoverEdge)\n",
    "genome.initializator.set(G1DListCustomInitializator)\n",
    "\n",
    "ga = GSimpleGA.GSimpleGA(genome)\n",
    "ga.selector.set(Selectors.GTournamentSelector)\n",
    "ga.setMinimax(Consts.minimaxType[\"minimize\"])\n",
    "ga.setGenerations(200)\n",
    "ga.setCrossoverRate(0.5)\n",
    "ga.setMutationRate(0.3)\n",
    "ga.setPopulationSize(80)\n",
    "ga.setElitism(True)\n",
    "\n",
    "ga.evolve(freq_stats=20)\n",
    "best = ga.bestIndividual()\n",
    "print(best)\n"
   ]
  },
  {
   "cell_type": "code",
   "execution_count": 30,
   "metadata": {},
   "outputs": [
    {
     "name": "stdout",
     "output_type": "stream",
     "text": [
      "[(20.09, 94.55), (21.52, 95.59), (17.2, 96.29), (20.47, 97.02), (22.0, 96.05), (20.09, 92.54), (16.47, 96.1), (22.39, 93.37), (16.47, 94.44), (25.23, 97.24), (16.3, 97.38), (14.05, 98.12), (16.53, 97.38), (19.41, 97.13), (20.09, 94.55)]\n",
      "Meilleur route :  - GenomeBase\n",
      "\tScore:\t\t\t 3317.724576\n",
      "\tFitness:\t\t 4897.478547\n",
      "\n",
      "\tParams:\t\t {'rangemin': 0, 'rangemax': 13}\n",
      "\n",
      "\tSlot [Evaluator] (Count: 1)\n",
      "\t\tName: fitness - Weight: 0.50\n",
      "\tSlot [Initializator] (Count: 1)\n",
      "\t\tName: G1DListCustomInitializator - Weight: 0.50\n",
      "\tSlot [Mutator] (Count: 1)\n",
      "\t\tName: G1DBinaryStringMutatorSwap - Weight: 0.50\n",
      "\t\tDoc:  The 1D Binary String Swap Mutator \n",
      "\tSlot [Crossover] (Count: 1)\n",
      "\t\tName: G1DListCrossoverEdge - Weight: 0.50\n",
      "\t\tDoc:  The Edge Recombination crossover for G1DList (widely used for TSP problem)\n",
      "\n",
      "    See more information in the `Edge Recombination Operator\n",
      "    <http://en.wikipedia.org/wiki/Edge_recombination_operator>`_\n",
      "    Wikipedia entry.\n",
      "    \n",
      "\n",
      "- G1DList\n",
      "\tList size:\t 14\n",
      "\tList:\t\t [13, 11, 7, 6, 5, 2, 0, 3, 1, 4, 8, 9, 10, 12, 13]\n",
      "\n",
      "\n",
      "Plus court chemin :  3317.7245756650423\n"
     ]
    },
    {
     "data": {
      "image/png": "[encoded data removed]",
      "text/plain": [
       "<Figure size 432x288 with 1 Axes>"
      ]
     },
     "metadata": {
      "needs_background": "light"
     },
     "output_type": "display_data"
    }
   ],
   "source": [
    "sol = best\n",
    "sol.append(sol[0])\n",
    "sol_coords = []\n",
    "sol_lat = []\n",
    "sol_long = []\n",
    "\n",
    "for i in range(0,len(sol)):\n",
    "    sol_coords.append(cities[sol[i]])\n",
    "    sol_lat.append(LAT[sol[i]])\n",
    "    sol_long.append(LON[sol[i]])\n",
    "    \n",
    "print(sol_coords)\n",
    "\n",
    "plot(sol_lat,sol_long, '-o')\n",
    "#plot.show()\n",
    "\n",
    "bestDistance = fitness(best)\n",
    "\n",
    "print(\"Meilleur route : \", best)\n",
    "print(\"Plus court chemin : \", fitness(best))"
   ]
  },
  {
   "cell_type": "code",
   "execution_count": 31,
   "metadata": {},
   "outputs": [
    {
     "name": "stdout",
     "output_type": "stream",
     "text": [
      "[(16.47, 96.1), (16.47, 94.44), (20.09, 92.54), (22.39, 93.37), (25.23, 97.24), (22.0, 96.05), (20.47, 97.02), (17.2, 96.29), (16.3, 97.38), (14.05, 98.12), (16.53, 97.38), (21.52, 95.59), (19.41, 97.13), (20.09, 94.55)]\n"
     ]
    }
   ],
   "source": [
    "print(cities)"
   ]
  },
  {
   "cell_type": "code",
   "execution_count": null,
   "metadata": {},
   "outputs": [],
   "source": []
  }
 ],
 "metadata": {
  "kernelspec": {
   "display_name": "Python 3",
   "language": "python",
   "name": "python3"
  },
  "language_info": {
   "codemirror_mode": {
    "name": "ipython",
    "version": 3
   },
   "file_extension": ".py",
   "mimetype": "text/x-python",
   "name": "python",
   "nbconvert_exporter": "python",
   "pygments_lexer": "ipython3",
   "version": "3.7.7"
  }
 },
 "nbformat": 4,
 "nbformat_minor": 4
}
