{
 "cells": [
  {
   "cell_type": "code",
   "execution_count": 1,
   "metadata": {},
   "outputs": [],
   "source": [
    "from pyevolve import G1DList\n",
    "from pyevolve import GSimpleGA\n",
    "from pyevolve import Selectors\n",
    "from pyevolve import Mutators\n",
    "from pyevolve import Statistics\n",
    "from pyevolve import Crossovers\n",
    "from geopy.distance import geodesic\n",
    "import random"
   ]
  },
  {
   "cell_type": "code",
   "execution_count": 2,
   "metadata": {},
   "outputs": [],
   "source": [
    "LAT = [16.47, 16.47, 20.09, 22.39, 25.23, 22.00, 20.47, \n",
    "       17.20, 16.30, 14.05, 16.53, 21.52, 19.41, 20.09]\n",
    "\n",
    "LON = [96.10, 94.44, 92.54, 93.37, 97.24, 96.05, 97.02, \n",
    "       96.29, 97.38, 98.12, 97.38, 95.59, 97.13, 94.55]"
   ]
  },
  {
   "cell_type": "code",
   "execution_count": 3,
   "metadata": {},
   "outputs": [],
   "source": [
    "cities = list(zip(LAT, LON))"
   ]
  },
  {
   "cell_type": "code",
   "execution_count": 4,
   "metadata": {},
   "outputs": [],
   "source": [
    "def distanceTwoCities(city1, city2):\n",
    "    return float(str(geodesic(city1, city2)).replace(\"km\", \"\"))"
   ]
  },
  {
   "cell_type": "code",
   "execution_count": 5,
   "metadata": {},
   "outputs": [
    {
     "name": "stdout",
     "output_type": "stream",
     "text": [
      "4624.3377976495585\n"
     ]
    }
   ],
   "source": [
    "def distTotPath(listCities):\n",
    "    score = 0.0\n",
    "    for i in range(0,len(listCities) - 1):\n",
    "        score += distanceTwoCities(listCities[i],listCities[i + 1])\n",
    "    score += distanceTwoCities(listCities[0],listCities[len(listCities) - 1])\n",
    "    return score\n",
    "\n",
    "print(distTotPath(cities))"
   ]
  },
  {
   "cell_type": "code",
   "execution_count": 9,
   "metadata": {},
   "outputs": [],
   "source": [
    "def fitness(chromosome):\n",
    "    return 11000 - distTotPath(chromosome)"
   ]
  },
  {
   "cell_type": "code",
   "execution_count": 10,
   "metadata": {},
   "outputs": [],
   "source": [
    "#http://pyevolve.sourceforge.net/0_6rc1/examples.html \n",
    "def G1DListTSPInitializator(genome, **args):\n",
    "    lst = [i for i in range(65,65+genome.getListSize())]\n",
    "    random.shuffle(lst)\n",
    "    genome.setInternalList(lst)"
   ]
  },
  {
   "cell_type": "code",
   "execution_count": null,
   "metadata": {},
   "outputs": [
    {
     "name": "stdout",
     "output_type": "stream",
     "text": [
      "Gen. 0 (0.00%): Max/Min/Avg Fitness(Raw)             [3731.12(5867.55)/2523.63(511.63)/3109.27(3109.27)]\n",
      "Gen. 50 (5.00%): Max/Min/Avg Fitness(Raw)             [8175.70(8099.01)/0.00(2296.95)/7911.56(7911.56)]\n",
      "Gen. 100 (10.00%): Max/Min/Avg Fitness(Raw)             [9461.74(8099.01)/0.00(4305.06)/8536.61(7884.79)]\n",
      "Gen. 150 (15.00%): Max/Min/Avg Fitness(Raw)             [9467.10(8099.01)/0.00(4305.42)/8552.60(7889.25)]\n",
      "Gen. 200 (20.00%): Max/Min/Avg Fitness(Raw)             [9590.27(8099.01)/0.00(5643.96)/8948.24(7991.89)]\n",
      "Gen. 250 (25.00%): Max/Min/Avg Fitness(Raw)             [9517.98(8099.01)/0.00(3635.89)/8809.43(7931.65)]\n",
      "Gen. 300 (30.00%): Max/Min/Avg Fitness(Raw)             [9354.64(8099.01)/0.00(3858.95)/8388.47(7795.54)]\n",
      "Gen. 350 (35.00%): Max/Min/Avg Fitness(Raw)             [9566.19(8099.01)/0.00(4305.46)/8628.63(7971.83)]\n",
      "Gen. 400 (40.00%): Max/Min/Avg Fitness(Raw)             [9595.62(8099.01)/0.00(3858.95)/9003.23(7996.35)]\n",
      "Gen. 450 (45.00%): Max/Min/Avg Fitness(Raw)             [9461.75(8099.01)/0.00(3635.89)/8795.52(7884.79)]\n",
      "Gen. 500 (50.00%): Max/Min/Avg Fitness(Raw)             [9523.34(8099.01)/0.00(3635.89)/8756.27(7936.12)]\n",
      "Gen. 550 (55.00%): Max/Min/Avg Fitness(Raw)             [9432.29(8099.01)/0.00(4305.46)/8457.33(7860.24)]\n",
      "Gen. 600 (60.00%): Max/Min/Avg Fitness(Raw)             [9493.87(8099.01)/0.00(3858.95)/8717.77(7911.56)]\n"
     ]
    }
   ],
   "source": [
    "#CHANGE\n",
    "\n",
    "genome = G1DList.G1DList(len(cities))\n",
    "genome.setParams(rangemin=65, rangemax=65+len(cities))\n",
    "genome.evaluator.set(fitness)\n",
    "genome.initializator.set(G1DListTSPInitializator)\n",
    "genome.crossover.set(Crossovers.G1DListCrossoverEdge)\n",
    "genome.mutator.set(Mutators.G1DListMutatorSwap)\n",
    "\n",
    "ga = GSimpleGA.GSimpleGA(genome)\n",
    "ga.setPopulationSize(100)\n",
    "ga.setMutationRate(0.01)\n",
    "ga.setCrossoverRate(0.0)\n",
    "ga.selector.set(Selectors.GTournamentSelector)\n",
    "ga.setElitism(True)\n",
    "\n",
    "ga.setGenerations(1000)\n",
    "ga.evolve(freq_stats=50)\n",
    "\n",
    "best = ga.bestIndividual()\n",
    "print(best)\n"
   ]
  },
  {
   "cell_type": "code",
   "execution_count": null,
   "metadata": {},
   "outputs": [],
   "source": []
  }
 ],
 "metadata": {
  "kernelspec": {
   "display_name": "Python 3",
   "language": "python",
   "name": "python3"
  },
  "language_info": {
   "codemirror_mode": {
    "name": "ipython",
    "version": 3
   },
   "file_extension": ".py",
   "mimetype": "text/x-python",
   "name": "python",
   "nbconvert_exporter": "python",
   "pygments_lexer": "ipython3",
   "version": "3.8.3"
  }
 },
 "nbformat": 4,
 "nbformat_minor": 4
}
