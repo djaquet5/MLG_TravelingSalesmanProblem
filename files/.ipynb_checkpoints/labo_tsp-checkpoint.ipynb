{
 "cells": [
  {
   "cell_type": "code",
   "execution_count": 1,
   "metadata": {},
   "outputs": [],
   "source": [
    "from pyevolve import G1DList\n",
    "from pyevolve import GSimpleGA\n",
    "from pyevolve import Selectors\n",
    "from pyevolve import Mutators\n",
    "from pyevolve import Statistics\n",
    "from pyevolve import Crossovers\n",
    "from pyevolve import Consts\n",
    "from geopy.distance import geodesic\n",
    "import matplotlib.pyplot as plt \n",
    "import random\n",
    "from pyevolve import DBAdapters"
   ]
  },
  {
   "cell_type": "code",
   "execution_count": 2,
   "metadata": {},
   "outputs": [],
   "source": [
    "LAT = [16.47, 16.47, 20.09, 22.39, 25.23, 22.00, 20.47, \n",
    "       17.20, 16.30, 14.05, 16.53, 21.52, 19.41, 20.09]\n",
    "\n",
    "LON = [96.10, 94.44, 92.54, 93.37, 97.24, 96.05, 97.02, \n",
    "       96.29, 97.38, 98.12, 97.38, 95.59, 97.13, 94.55]"
   ]
  },
  {
   "cell_type": "code",
   "execution_count": 3,
   "metadata": {},
   "outputs": [],
   "source": [
    "cities = list(zip(LAT, LON))"
   ]
  },
  {
   "cell_type": "code",
   "execution_count": 4,
   "metadata": {},
   "outputs": [],
   "source": [
    "#Compute the distance between two city\n",
    "def distanceTwoCities(city1, city2):\n",
    "    return geodesic(city1, city2).km"
   ]
  },
  {
   "cell_type": "code",
   "execution_count": 5,
   "metadata": {},
   "outputs": [],
   "source": [
    "#Compute the total path between cities\n",
    "def distTotPath(listCities):\n",
    "    distance = 0.0\n",
    "    for i in range(0,len(listCities)-1):\n",
    "        distance += distanceTwoCities(cities[listCities[i]],cities[listCities[i+1]])\n",
    "    distance += distanceTwoCities(cities[listCities[0]],cities[listCities[len(listCities)-1]])\n",
    "    return distance"
   ]
  },
  {
   "cell_type": "code",
   "execution_count": 6,
   "metadata": {},
   "outputs": [],
   "source": [
    "ft_evolve = []\n",
    "\n",
    "def fitness(chromosome):\n",
    "    dst = distTotPath(chromosome)\n",
    "    ft_evolve.append(dst)\n",
    "    return dst"
   ]
  },
  {
   "cell_type": "code",
   "execution_count": 7,
   "metadata": {},
   "outputs": [],
   "source": [
    "def G1DListCustomInitializator(genome, **args):\n",
    "    lst = [i for i in range(genome.getListSize())]\n",
    "    random.shuffle(lst)\n",
    "    genome.setInternalList(lst)"
   ]
  },
  {
   "cell_type": "code",
   "execution_count": null,
   "metadata": {},
   "outputs": [
    {
     "name": "stdout",
     "output_type": "stream",
     "text": [
      "Gen. 0 (0.00%): Max/Min/Avg Fitness(Raw)             [8057.36(8187.19)/4654.15(4454.97)/6714.47(6714.47)]\n",
      "Gen. 50 (16.67%): Max/Min/Avg Fitness(Raw)             [6569.15(7029.59)/4295.66(3799.98)/5474.29(5474.29)]\n",
      "Gen. 100 (33.33%): Max/Min/Avg Fitness(Raw)             [6582.44(7173.21)/4278.36(3628.39)/5485.37(5485.37)]\n",
      "Gen. 150 (50.00%): Max/Min/Avg Fitness(Raw)             [6516.74(7203.28)/4249.40(3502.75)/5430.61(5430.61)]\n"
     ]
    }
   ],
   "source": [
    "# Chromosome representation\n",
    "\n",
    "# genome = List of elements\n",
    "genome = G1DList.G1DList(len(cities))\n",
    "# elements = values in the range rangemin and rangemax\n",
    "genome.setParams(rangemin=0, rangemax=len(cities)-1)\n",
    "\n",
    "# how to compute the fitness\n",
    "genome.evaluator.set(fitness)\n",
    "genome.mutator.set(Mutators.G1DListMutatorSwap)\n",
    "genome.crossover.set(Crossovers.G1DListCrossoverEdge)\n",
    "genome.initializator.set(G1DListCustomInitializator)\n",
    "\n",
    "\n",
    "# GA initialisation\n",
    "ga = GSimpleGA.GSimpleGA(genome)\n",
    "ga.selector.set(Selectors.GTournamentSelector)\n",
    "\n",
    "# Minimize the result\n",
    "ga.setMinimax(Consts.minimaxType[\"minimize\"])\n",
    "ga.setGenerations(300)\n",
    "ga.setCrossoverRate(0.8)\n",
    "ga.setMutationRate(0.03)\n",
    "ga.setPopulationSize(80)\n",
    "ga.setElitism(True)\n",
    "\n",
    "# Use to plot graph\n",
    "dbadapter = DBAdapters.DBSQLite(identify=\"labo_tsp\", resetDB=True)\n",
    "ga.setDBAdapter(dbadapter)\n",
    "\n",
    "ga.evolve(freq_stats=50)\n",
    "\n",
    "# Final best solution\n",
    "best = ga.bestIndividual()"
   ]
  },
  {
   "cell_type": "code",
   "execution_count": null,
   "metadata": {},
   "outputs": [],
   "source": [
    "#Display the graph, the list and the length of the best path\n",
    "sol = best.genomeList\n",
    "print(sol)\n",
    "print(fitness(sol))\n",
    "sol.append(sol[0])\n",
    "sol_coords = []\n",
    "sol_lat = []\n",
    "sol_long = []\n",
    "\n",
    "for i in range(0,len(sol)):\n",
    "    sol_coords.append(cities[sol[i]])\n",
    "    sol_lat.append(LAT[sol[i]])\n",
    "    sol_long.append(LON[sol[i]])\n",
    "\n",
    "plt.plot(sol_lat,sol_long, '-o')\n",
    "plt.show()"
   ]
  },
  {
   "cell_type": "code",
   "execution_count": null,
   "metadata": {},
   "outputs": [],
   "source": [
    "# -0 display all graphs\n",
    "%run ./pyevolve_graph.py -i labo_tsp -2"
   ]
  },
  {
   "cell_type": "code",
   "execution_count": null,
   "metadata": {},
   "outputs": [],
   "source": []
  }
 ],
 "metadata": {
  "kernelspec": {
   "display_name": "Python 3",
   "language": "python",
   "name": "python3"
  },
  "language_info": {
   "codemirror_mode": {
    "name": "ipython",
    "version": 3
   },
   "file_extension": ".py",
   "mimetype": "text/x-python",
   "name": "python",
   "nbconvert_exporter": "python",
   "pygments_lexer": "ipython3",
   "version": "3.8.3"
  }
 },
 "nbformat": 4,
 "nbformat_minor": 4
}
