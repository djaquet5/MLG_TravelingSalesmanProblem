{
 "cells": [
  {
   "cell_type": "code",
   "execution_count": 1,
   "metadata": {},
   "outputs": [],
   "source": [
    "from pyevolve import G1DList\n",
    "from pyevolve import GSimpleGA\n",
    "from pyevolve import Selectors\n",
    "from pyevolve import Mutators\n",
    "from pyevolve import Statistics\n",
    "from pyevolve import Crossovers\n",
    "from pyevolve import Consts\n",
    "from geopy.distance import geodesic\n",
    "import matplotlib.pyplot as plt \n",
    "import random"
   ]
  },
  {
   "cell_type": "code",
   "execution_count": 2,
   "metadata": {},
   "outputs": [],
   "source": [
    "LAT = [16.47, 16.47, 20.09, 22.39, 25.23, 22.00, 20.47, \n",
    "       17.20, 16.30, 14.05, 16.53, 21.52, 19.41, 20.09]\n",
    "\n",
    "LON = [96.10, 94.44, 92.54, 93.37, 97.24, 96.05, 97.02, \n",
    "       96.29, 97.38, 98.12, 97.38, 95.59, 97.13, 94.55]"
   ]
  },
  {
   "cell_type": "code",
   "execution_count": 3,
   "metadata": {},
   "outputs": [],
   "source": [
    "cities = list(zip(LAT, LON))"
   ]
  },
  {
   "cell_type": "code",
   "execution_count": 4,
   "metadata": {},
   "outputs": [],
   "source": [
    "#Compute the distance between two city\n",
    "def distanceTwoCities(city1, city2):\n",
    "    return geodesic(city1, city2).km"
   ]
  },
  {
   "cell_type": "code",
   "execution_count": 5,
   "metadata": {},
   "outputs": [],
   "source": [
    "#Compute the total path between cities\n",
    "def distTotPath(listCities):\n",
    "    distance = 0.0\n",
    "    for i in range(0,len(listCities)-1):\n",
    "        distance += distanceTwoCities(cities[listCities[i]],cities[listCities[i+1]])\n",
    "    distance += distanceTwoCities(cities[listCities[0]],cities[listCities[len(listCities)-1]])\n",
    "    return distance"
   ]
  },
  {
   "cell_type": "code",
   "execution_count": 6,
   "metadata": {},
   "outputs": [],
   "source": [
    "def fitness(chromosome):\n",
    "    return distTotPath(chromosome)"
   ]
  },
  {
   "cell_type": "code",
   "execution_count": 7,
   "metadata": {},
   "outputs": [],
   "source": [
    "def G1DListCustomInitializator(genome, **args):\n",
    "    lst = [i for i in range(genome.getListSize())]\n",
    "    random.shuffle(lst)\n",
    "    genome.setInternalList(lst)"
   ]
  },
  {
   "cell_type": "code",
   "execution_count": 8,
   "metadata": {},
   "outputs": [
    {
     "name": "stdout",
     "output_type": "stream",
     "text": [
      "Gen. 0 (0.00%): Max/Min/Avg Fitness(Raw)             [8205.76(8621.29)/5276.20(4801.63)/6838.13(6838.13)]\n",
      "Gen. 50 (25.00%): Max/Min/Avg Fitness(Raw)             [6024.84(7218.47)/4323.58(3494.91)/5020.70(5020.70)]\n",
      "Gen. 100 (50.00%): Max/Min/Avg Fitness(Raw)             [6166.40(7256.45)/4340.97(3494.91)/5138.66(5138.66)]\n",
      "Gen. 150 (75.00%): Max/Min/Avg Fitness(Raw)             [5975.94(6655.77)/4097.34(3494.91)/4979.95(4979.95)]\n",
      "Gen. 200 (100.00%): Max/Min/Avg Fitness(Raw)             [6134.59(6738.76)/4002.49(3346.76)/5112.16(5112.16)]\n",
      "Total time elapsed: 45.730 seconds.\n"
     ]
    }
   ],
   "source": [
    "# Chromosome representation\n",
    "\n",
    "# genome = List of elements\n",
    "genome = G1DList.G1DList(len(cities))\n",
    "# elements = values in the range rangemin and rangemax\n",
    "genome.setParams(rangemin=0, rangemax=len(cities))\n",
    "\n",
    "# how to compute the fitness\n",
    "genome.evaluator.set(fitness)\n",
    "genome.mutator.set(Mutators.G1DListMutatorSwap)\n",
    "genome.crossover.set(Crossovers.G1DListCrossoverEdge)\n",
    "genome.initializator.set(G1DListCustomInitializator)\n",
    "\n",
    "# GA initialisation\n",
    "ga = GSimpleGA.GSimpleGA(genome)\n",
    "ga.selector.set(Selectors.GTournamentSelector)\n",
    "#Minimize the result\n",
    "ga.setMinimax(Consts.minimaxType[\"minimize\"])\n",
    "ga.setGenerations(200)\n",
    "ga.setCrossoverRate(0.8)\n",
    "ga.setMutationRate(0.01)\n",
    "ga.setPopulationSize(100)\n",
    "ga.setElitism(True)\n",
    "\n",
    "ga.evolve(freq_stats=50)\n",
    "\n",
    "# Final best solution\n",
    "best = ga.bestIndividual()"
   ]
  },
  {
   "cell_type": "code",
   "execution_count": 9,
   "metadata": {},
   "outputs": [
    {
     "name": "stdout",
     "output_type": "stream",
     "text": [
      "[6, 11, 5, 4, 3, 2, 13, 1, 0, 9, 8, 10, 7, 12]\n",
      "3346.7619740386294\n"
     ]
    },
    {
     "data": {
      "image/png": "[encoded data removed]",
      "text/plain": [
       "<Figure size 432x288 with 1 Axes>"
      ]
     },
     "metadata": {
      "needs_background": "light"
     },
     "output_type": "display_data"
    }
   ],
   "source": [
    "#Display the graph, the list and the length of the best path\n",
    "sol = best.genomeList\n",
    "print(sol)\n",
    "print(fitness(sol))\n",
    "sol.append(sol[0])\n",
    "sol_coords = []\n",
    "sol_lat = []\n",
    "sol_long = []\n",
    "\n",
    "for i in range(0,len(sol)):\n",
    "    sol_coords.append(cities[sol[i]])\n",
    "    sol_lat.append(LAT[sol[i]])\n",
    "    sol_long.append(LON[sol[i]])\n",
    "\n",
    "plt.plot(sol_lat,sol_long, '-o')\n",
    "plt.show()"
   ]
  },
  {
   "cell_type": "code",
   "execution_count": null,
   "metadata": {},
   "outputs": [],
   "source": []
  }
 ],
 "metadata": {
  "kernelspec": {
   "display_name": "Python 3",
   "language": "python",
   "name": "python3"
  },
  "language_info": {
   "codemirror_mode": {
    "name": "ipython",
    "version": 3
   },
   "file_extension": ".py",
   "mimetype": "text/x-python",
   "name": "python",
   "nbconvert_exporter": "python",
   "pygments_lexer": "ipython3",
   "version": "3.8.3"
  }
 },
 "nbformat": 4,
 "nbformat_minor": 4
}
